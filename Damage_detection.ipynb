{
 "cells": [
  {
   "cell_type": "code",
   "execution_count": 1,
   "id": "b69c3a4a",
   "metadata": {},
   "outputs": [],
   "source": [
    "import os\n",
    "from torchvision import datasets , transforms\n",
    "from torch.utils.data import DataLoader\n",
    "import torch\n",
    "import torch.nn as nn\n",
    "import torch.optim as optim\n",
    "import torch.nn.functional as F\n",
    "import time\n",
    "import torchvision.models as models\n",
    "import matplotlib.pyplot as plt"
   ]
  },
  {
   "cell_type": "code",
   "execution_count": 2,
   "id": "9b49c7d7",
   "metadata": {},
   "outputs": [
    {
     "data": {
      "text/plain": [
       "device(type='cuda')"
      ]
     },
     "execution_count": 2,
     "metadata": {},
     "output_type": "execute_result"
    }
   ],
   "source": [
    "device = torch.device(\"cuda\" if torch.cuda.is_available() else \"cpu\")\n",
    "device"
   ]
  },
  {
   "cell_type": "markdown",
   "id": "bbbe4c47",
   "metadata": {},
   "source": [
    "## Load Data "
   ]
  },
  {
   "cell_type": "code",
   "execution_count": 3,
   "id": "cd1683d9",
   "metadata": {},
   "outputs": [],
   "source": [
    "#Transformation\n",
    "image_transform = transforms.Compose([\n",
    "    transforms.RandomHorizontalFlip(),\n",
    "    transforms.RandomRotation(10),\n",
    "    transforms.ColorJitter(brightness=0.2 , contrast=0.2),\n",
    "    transforms.Resize((224,224)),\n",
    "    transforms.ToTensor(),\n",
    "    transforms.Normalize(mean = [0.485,0.456,0.406] , std = [0.229,0.224,0.225])\n",
    "])"
   ]
  },
  {
   "cell_type": "code",
   "execution_count": 4,
   "id": "5255f093",
   "metadata": {},
   "outputs": [
    {
     "data": {
      "text/plain": [
       "2300"
      ]
     },
     "execution_count": 4,
     "metadata": {},
     "output_type": "execute_result"
    }
   ],
   "source": [
    "dataset_path = \"./dataset\"\n",
    "\n",
    "dataset = datasets.ImageFolder(dataset_path , transform=image_transform)\n",
    "\n",
    "len(dataset)"
   ]
  },
  {
   "cell_type": "code",
   "execution_count": 5,
   "id": "3735b0eb",
   "metadata": {},
   "outputs": [
    {
     "data": {
      "text/plain": [
       "['F_Breakage', 'F_Crushed', 'F_Normal', 'R_Breakage', 'R_Crushed', 'R_Normal']"
      ]
     },
     "execution_count": 5,
     "metadata": {},
     "output_type": "execute_result"
    }
   ],
   "source": [
    "class_names = dataset.classes\n",
    "class_names"
   ]
  },
  {
   "cell_type": "code",
   "execution_count": 6,
   "id": "be69cb5f",
   "metadata": {},
   "outputs": [
    {
     "data": {
      "text/plain": [
       "6"
      ]
     },
     "execution_count": 6,
     "metadata": {},
     "output_type": "execute_result"
    }
   ],
   "source": [
    "num_classes = len(dataset.classes)\n",
    "num_classes"
   ]
  },
  {
   "cell_type": "code",
   "execution_count": 7,
   "id": "ea9ffb82",
   "metadata": {},
   "outputs": [
    {
     "data": {
      "text/plain": [
       "(1725, 575)"
      ]
     },
     "execution_count": 7,
     "metadata": {},
     "output_type": "execute_result"
    }
   ],
   "source": [
    "train_size = int(0.75*len(dataset))\n",
    "val_size = len(dataset) - train_size\n",
    "\n",
    "train_size , val_size"
   ]
  },
  {
   "cell_type": "code",
   "execution_count": 8,
   "id": "1aa9b012",
   "metadata": {},
   "outputs": [],
   "source": [
    "from torch.utils.data import random_split\n",
    "\n",
    "train_dataset , val_dataset = random_split(dataset, [train_size , val_size])"
   ]
  },
  {
   "cell_type": "code",
   "execution_count": 9,
   "id": "06af876e",
   "metadata": {},
   "outputs": [],
   "source": [
    "train_loader = DataLoader(train_dataset , batch_size=32 , shuffle=True)\n",
    "val_loader = DataLoader(val_dataset , batch_size=32 , shuffle=True)"
   ]
  },
  {
   "cell_type": "code",
   "execution_count": 10,
   "id": "faabc2a8",
   "metadata": {},
   "outputs": [
    {
     "name": "stdout",
     "output_type": "stream",
     "text": [
      "torch.Size([32, 3, 224, 224])\n",
      "torch.Size([32])\n"
     ]
    }
   ],
   "source": [
    "for images, labels in train_loader:\n",
    "    print(images.shape)\n",
    "    print(labels.shape)\n",
    "    break"
   ]
  },
  {
   "cell_type": "code",
   "execution_count": 11,
   "id": "4e51020d",
   "metadata": {},
   "outputs": [
    {
     "data": {
      "text/plain": [
       "tensor([[[-2.1179, -2.1179, -2.1179,  ..., -2.1179, -2.1179, -2.1179],\n",
       "         [-2.1179, -2.1179, -2.1179,  ..., -2.1179, -2.1179, -2.1179],\n",
       "         [-2.1179, -2.1179, -2.1179,  ..., -2.1179, -2.1179, -2.1179],\n",
       "         ...,\n",
       "         [-2.1179, -2.1179, -2.1179,  ..., -2.1179, -2.1179, -2.1179],\n",
       "         [-2.1179, -2.1179, -2.1179,  ..., -2.1179, -2.1179, -2.1179],\n",
       "         [-2.1179, -2.1179, -2.1179,  ..., -2.1179, -2.1179, -2.1179]],\n",
       "\n",
       "        [[-2.0357, -2.0357, -2.0357,  ..., -2.0357, -2.0357, -2.0357],\n",
       "         [-2.0357, -2.0357, -2.0357,  ..., -2.0357, -2.0357, -2.0357],\n",
       "         [-2.0357, -2.0357, -2.0357,  ..., -2.0357, -2.0357, -2.0357],\n",
       "         ...,\n",
       "         [-2.0357, -2.0357, -2.0357,  ..., -2.0357, -2.0357, -2.0357],\n",
       "         [-2.0357, -2.0357, -2.0357,  ..., -2.0357, -2.0357, -2.0357],\n",
       "         [-2.0357, -2.0357, -2.0357,  ..., -2.0357, -2.0357, -2.0357]],\n",
       "\n",
       "        [[-1.8044, -1.8044, -1.8044,  ..., -1.8044, -1.8044, -1.8044],\n",
       "         [-1.8044, -1.8044, -1.8044,  ..., -1.8044, -1.8044, -1.8044],\n",
       "         [-1.8044, -1.8044, -1.8044,  ..., -1.8044, -1.8044, -1.8044],\n",
       "         ...,\n",
       "         [-1.8044, -1.8044, -1.8044,  ..., -1.8044, -1.8044, -1.8044],\n",
       "         [-1.8044, -1.8044, -1.8044,  ..., -1.8044, -1.8044, -1.8044],\n",
       "         [-1.8044, -1.8044, -1.8044,  ..., -1.8044, -1.8044, -1.8044]]])"
      ]
     },
     "execution_count": 11,
     "metadata": {},
     "output_type": "execute_result"
    }
   ],
   "source": [
    "images[0]"
   ]
  },
  {
   "cell_type": "code",
   "execution_count": 12,
   "id": "68520761",
   "metadata": {},
   "outputs": [
    {
     "data": {
      "text/plain": [
       "torch.Size([3, 224, 224])"
      ]
     },
     "execution_count": 12,
     "metadata": {},
     "output_type": "execute_result"
    }
   ],
   "source": [
    "images[0].shape"
   ]
  },
  {
   "cell_type": "code",
   "execution_count": 13,
   "id": "46c381e1",
   "metadata": {},
   "outputs": [
    {
     "data": {
      "text/plain": [
       "tensor(5)"
      ]
     },
     "execution_count": 13,
     "metadata": {},
     "output_type": "execute_result"
    }
   ],
   "source": [
    "labels[0]   # i.e R_breakage"
   ]
  },
  {
   "cell_type": "code",
   "execution_count": 14,
   "id": "eb86afac",
   "metadata": {},
   "outputs": [
    {
     "data": {
      "text/plain": [
       "torch.Size([224, 224, 3])"
      ]
     },
     "execution_count": 14,
     "metadata": {},
     "output_type": "execute_result"
    }
   ],
   "source": [
    "images[0].permute(1,2,0).shape  # as I imshow expects pixels first and channel at last"
   ]
  },
  {
   "cell_type": "code",
   "execution_count": 15,
   "id": "ef3e2626",
   "metadata": {},
   "outputs": [
    {
     "name": "stderr",
     "output_type": "stream",
     "text": [
      "Clipping input data to the valid range for imshow with RGB data ([0..1] for floats or [0..255] for integers). Got range [-2.117904..2.64].\n"
     ]
    },
    {
     "data": {
      "image/png": "[encoded data removed]",
      "text/plain": [
       "<Figure size 640x480 with 1 Axes>"
      ]
     },
     "metadata": {},
     "output_type": "display_data"
    }
   ],
   "source": [
    "plt.imshow(images[0].permute(1,2,0))\n",
    "plt.show()"
   ]
  },
  {
   "cell_type": "code",
   "execution_count": null,
   "id": "cd3c4d31",
   "metadata": {},
   "outputs": [],
   "source": []
  },
  {
   "cell_type": "markdown",
   "id": "06ea7532",
   "metadata": {},
   "source": [
    "## Model1 CNN:"
   ]
  },
  {
   "cell_type": "code",
   "execution_count": 16,
   "id": "cf1c4389",
   "metadata": {},
   "outputs": [],
   "source": [
    "class CarClassiferCNN(nn.Module):\n",
    "    def __init__(self ,num_classes):\n",
    "        super().__init__()\n",
    "        self.network = nn.Sequential(\n",
    "              nn.Conv2d(in_channels=3 , out_channels=16 , kernel_size=3 , stride=1 , padding=1), # out = (16,224,224)\n",
    "              nn.ReLU(),\n",
    "              nn.MaxPool2d(kernel_size=2 , stride=2 , padding=0), # out = (16,112,112)\n",
    "              nn.Conv2d(in_channels=16 , out_channels=32 , kernel_size=3 , stride=1 , padding=1), # out = (32,112,112)\n",
    "              nn.ReLU(),\n",
    "              nn.MaxPool2d(kernel_size=2 , stride=2 , padding=0), # out = (32,56,56)\n",
    "              nn.Conv2d(in_channels=32 , out_channels=64 , kernel_size=3 , stride=1 , padding=1), # out = (64,56,56)\n",
    "              nn.ReLU(),\n",
    "              nn.MaxPool2d(kernel_size=2 , stride=2 , padding=0), # out = (64,28,28)\n",
    "              nn.Flatten(),\n",
    "              nn.Linear(64*28*28 , 512),\n",
    "              nn.ReLU(),\n",
    "              nn.Linear(512 , num_classes)\n",
    "        )\n",
    "        \n",
    "    def forward(self,x):\n",
    "        x = self.network(x)\n",
    "        return x"
   ]
  },
  {
   "cell_type": "code",
   "execution_count": 17,
   "id": "9d15762b",
   "metadata": {},
   "outputs": [],
   "source": [
    "# Instantiate the model , loss function and optimizer\n",
    "\n",
    "model = CarClassiferCNN(num_classes = num_classes).to(device)\n",
    "criterion = nn.CrossEntropyLoss()\n",
    "optimizer = optim.Adam(model.parameters() , lr=0.001)"
   ]
  },
  {
   "cell_type": "code",
   "execution_count": 18,
   "id": "06dc5226",
   "metadata": {},
   "outputs": [],
   "source": [
    "def train_model(model , criterion, optimizer , epochs=5):\n",
    "    start = time.time()\n",
    "    \n",
    "    for epoch in range(epochs):\n",
    "        \n",
    "        model.train()\n",
    "        running_loss = 0.0\n",
    "        \n",
    "        for batch_num , (images , labels) in enumerate(train_loader):\n",
    "            images , labels = images.to(device) , labels.to(device)\n",
    "            \n",
    "            # Zero the parameter gradients \n",
    "            optimizer.zero_grad()\n",
    "            \n",
    "            # Forward pass\n",
    "            outputs = model(images)\n",
    "            loss = criterion(outputs , labels)\n",
    "            \n",
    "            # Backward pass and optimization\n",
    "            loss.backward()\n",
    "            optimizer.step()\n",
    "            \n",
    "            if (batch_num+1) % 10 == 0:\n",
    "                print(f\"Batch:{batch_num+1} , Epoch: {epoch+1} , Loss: {loss.item():0.2f}\")\n",
    "\n",
    "            running_loss += loss.item()*images.size(0)  # it will calculate loss for whole batch\n",
    "            \n",
    "        epoch_loss = running_loss/len(train_loader.dataset)\n",
    "        print(f\"Epoch:[{epoch+1}/{epochs}] , Avg Loss: {epoch_loss:.4f}\")\n",
    "        \n",
    "        \n",
    "        # Validation\n",
    "        \n",
    "        model.eval()\n",
    "        correct = 0\n",
    "        total = 0\n",
    "        all_labels = []\n",
    "        all_predictions = []\n",
    "        \n",
    "        with torch.no_grad():\n",
    "            for images , labels in val_loader:\n",
    "                images , labels = images.to(device) , labels.to(device)\n",
    "                outputs = model(images)\n",
    "                _, predicted = torch.max(outputs ,1)\n",
    "                total += labels.size(0)\n",
    "                correct += (predicted == labels).sum().item()\n",
    "                all_labels.extend(labels.cpu().numpy())\n",
    "                all_predictions.extend(labels.cpu().numpy())\n",
    "                \n",
    "            print(f\"*** Validation Accuracy : {100*correct / total:.2f}% ***\")\n",
    "     \n",
    "    end = time.time()\n",
    "    print(f\"Execution Time:{end -start} seconds\")\n",
    "    return all_labels , all_predictions\n",
    "                \n",
    "            "
   ]
  },
  {
   "cell_type": "code",
   "execution_count": 19,
   "id": "bb82f60a",
   "metadata": {},
   "outputs": [
    {
     "name": "stdout",
     "output_type": "stream",
     "text": [
      "Batch:10 , Epoch: 1 , Loss: 1.76\n",
      "Batch:20 , Epoch: 1 , Loss: 1.65\n",
      "Batch:30 , Epoch: 1 , Loss: 1.69\n",
      "Batch:40 , Epoch: 1 , Loss: 1.59\n",
      "Batch:50 , Epoch: 1 , Loss: 1.40\n",
      "Epoch:[1/10] , Avg Loss: 1.6915\n",
      "*** Validation Accuracy : 41.04% ***\n",
      "Batch:10 , Epoch: 2 , Loss: 1.39\n",
      "Batch:20 , Epoch: 2 , Loss: 1.35\n",
      "Batch:30 , Epoch: 2 , Loss: 1.26\n",
      "Batch:40 , Epoch: 2 , Loss: 1.11\n",
      "Batch:50 , Epoch: 2 , Loss: 1.28\n",
      "Epoch:[2/10] , Avg Loss: 1.2331\n",
      "*** Validation Accuracy : 55.48% ***\n",
      "Batch:10 , Epoch: 3 , Loss: 1.08\n",
      "Batch:20 , Epoch: 3 , Loss: 1.26\n",
      "Batch:30 , Epoch: 3 , Loss: 1.18\n",
      "Batch:40 , Epoch: 3 , Loss: 1.14\n",
      "Batch:50 , Epoch: 3 , Loss: 1.05\n",
      "Epoch:[3/10] , Avg Loss: 1.0622\n",
      "*** Validation Accuracy : 55.65% ***\n",
      "Batch:10 , Epoch: 4 , Loss: 0.81\n",
      "Batch:20 , Epoch: 4 , Loss: 0.82\n",
      "Batch:30 , Epoch: 4 , Loss: 1.19\n",
      "Batch:40 , Epoch: 4 , Loss: 1.06\n",
      "Batch:50 , Epoch: 4 , Loss: 1.27\n",
      "Epoch:[4/10] , Avg Loss: 0.9610\n",
      "*** Validation Accuracy : 55.48% ***\n",
      "Batch:10 , Epoch: 5 , Loss: 0.72\n",
      "Batch:20 , Epoch: 5 , Loss: 1.12\n",
      "Batch:30 , Epoch: 5 , Loss: 1.18\n",
      "Batch:40 , Epoch: 5 , Loss: 1.28\n",
      "Batch:50 , Epoch: 5 , Loss: 0.91\n",
      "Epoch:[5/10] , Avg Loss: 0.8841\n",
      "*** Validation Accuracy : 54.26% ***\n",
      "Batch:10 , Epoch: 6 , Loss: 0.69\n",
      "Batch:20 , Epoch: 6 , Loss: 0.89\n",
      "Batch:30 , Epoch: 6 , Loss: 0.87\n",
      "Batch:40 , Epoch: 6 , Loss: 0.59\n",
      "Batch:50 , Epoch: 6 , Loss: 0.96\n",
      "Epoch:[6/10] , Avg Loss: 0.8685\n",
      "*** Validation Accuracy : 57.22% ***\n",
      "Batch:10 , Epoch: 7 , Loss: 0.84\n",
      "Batch:20 , Epoch: 7 , Loss: 0.77\n",
      "Batch:30 , Epoch: 7 , Loss: 0.71\n",
      "Batch:40 , Epoch: 7 , Loss: 0.62\n",
      "Batch:50 , Epoch: 7 , Loss: 0.69\n",
      "Epoch:[7/10] , Avg Loss: 0.7824\n",
      "*** Validation Accuracy : 57.39% ***\n",
      "Batch:10 , Epoch: 8 , Loss: 0.60\n",
      "Batch:20 , Epoch: 8 , Loss: 0.83\n",
      "Batch:30 , Epoch: 8 , Loss: 0.53\n",
      "Batch:40 , Epoch: 8 , Loss: 0.75\n",
      "Batch:50 , Epoch: 8 , Loss: 0.91\n",
      "Epoch:[8/10] , Avg Loss: 0.7078\n",
      "*** Validation Accuracy : 57.04% ***\n",
      "Batch:10 , Epoch: 9 , Loss: 0.83\n",
      "Batch:20 , Epoch: 9 , Loss: 0.79\n",
      "Batch:30 , Epoch: 9 , Loss: 0.78\n",
      "Batch:40 , Epoch: 9 , Loss: 0.73\n",
      "Batch:50 , Epoch: 9 , Loss: 0.62\n",
      "Epoch:[9/10] , Avg Loss: 0.6876\n",
      "*** Validation Accuracy : 59.13% ***\n",
      "Batch:10 , Epoch: 10 , Loss: 0.43\n",
      "Batch:20 , Epoch: 10 , Loss: 0.97\n",
      "Batch:30 , Epoch: 10 , Loss: 0.60\n",
      "Batch:40 , Epoch: 10 , Loss: 0.59\n",
      "Batch:50 , Epoch: 10 , Loss: 0.58\n",
      "Epoch:[10/10] , Avg Loss: 0.6370\n",
      "*** Validation Accuracy : 56.70% ***\n",
      "Execution Time:1257.957686662674 seconds\n"
     ]
    }
   ],
   "source": [
    "# Instantiate the model , loss function and optimizer\n",
    "\n",
    "model = CarClassiferCNN(num_classes = num_classes).to(device)\n",
    "criterion = nn.CrossEntropyLoss()\n",
    "optimizer = optim.Adam(model.parameters() , lr=0.001)\n",
    "\n",
    "\n",
    "all_labels , all_predictions =  train_model(model , criterion , optimizer , epochs=10)"
   ]
  },
  {
   "cell_type": "markdown",
   "id": "bed912b8",
   "metadata": {},
   "source": [
    "## Model1 CNN with Regularisation"
   ]
  },
  {
   "cell_type": "code",
   "execution_count": 20,
   "id": "16e623fc",
   "metadata": {},
   "outputs": [],
   "source": [
    "class CarClassiferCNNWithRegularization(nn.Module):\n",
    "    def __init__(self ,num_classes):\n",
    "        super().__init__()\n",
    "        self.network = nn.Sequential(\n",
    "              nn.Conv2d(in_channels=3 , out_channels=16 , kernel_size=3 , stride=1 , padding=1), # out = (16,224,224)\n",
    "              nn.BatchNorm2d(16),\n",
    "              nn.ReLU(),\n",
    "              nn.MaxPool2d(kernel_size=2 , stride=2 , padding=0), # out = (16,112,112)\n",
    "              nn.Conv2d(in_channels=16 , out_channels=32 , kernel_size=3 , stride=1 , padding=1), # out = (32,112,112)\n",
    "              nn.BatchNorm2d(32),\n",
    "              nn.ReLU(),\n",
    "              nn.MaxPool2d(kernel_size=2 , stride=2 , padding=0), # out = (32,56,56)\n",
    "              nn.Conv2d(in_channels=32 , out_channels=64 , kernel_size=3 , stride=1 , padding=1), # out = (64,56,56)\n",
    "              nn.BatchNorm2d(64),\n",
    "              nn.ReLU(),\n",
    "              nn.MaxPool2d(kernel_size=2 , stride=2 , padding=0), # out = (64,28,28)\n",
    "              nn.Flatten(),\n",
    "              nn.Linear(64*28*28 , 512),\n",
    "              nn.ReLU(),\n",
    "              nn.Dropout(0.5),\n",
    "              nn.Linear(512 , num_classes)\n",
    "        )\n",
    "        \n",
    "    def forward(self,x):\n",
    "        x = self.network(x)\n",
    "        return x"
   ]
  },
  {
   "cell_type": "code",
   "execution_count": 21,
   "id": "755a8fd1",
   "metadata": {},
   "outputs": [
    {
     "name": "stdout",
     "output_type": "stream",
     "text": [
      "Batch:10 , Epoch: 1 , Loss: 9.90\n",
      "Batch:20 , Epoch: 1 , Loss: 6.70\n",
      "Batch:30 , Epoch: 1 , Loss: 2.40\n",
      "Batch:40 , Epoch: 1 , Loss: 1.47\n",
      "Batch:50 , Epoch: 1 , Loss: 1.62\n",
      "Epoch:[1/10] , Avg Loss: 7.4395\n",
      "*** Validation Accuracy : 42.96% ***\n",
      "Batch:10 , Epoch: 2 , Loss: 1.16\n",
      "Batch:20 , Epoch: 2 , Loss: 1.27\n",
      "Batch:30 , Epoch: 2 , Loss: 1.49\n",
      "Batch:40 , Epoch: 2 , Loss: 1.43\n",
      "Batch:50 , Epoch: 2 , Loss: 1.10\n",
      "Epoch:[2/10] , Avg Loss: 1.3955\n",
      "*** Validation Accuracy : 50.09% ***\n",
      "Batch:10 , Epoch: 3 , Loss: 1.60\n",
      "Batch:20 , Epoch: 3 , Loss: 1.35\n",
      "Batch:30 , Epoch: 3 , Loss: 1.20\n",
      "Batch:40 , Epoch: 3 , Loss: 1.37\n",
      "Batch:50 , Epoch: 3 , Loss: 1.14\n",
      "Epoch:[3/10] , Avg Loss: 1.2327\n",
      "*** Validation Accuracy : 50.43% ***\n",
      "Batch:10 , Epoch: 4 , Loss: 1.28\n",
      "Batch:20 , Epoch: 4 , Loss: 1.20\n",
      "Batch:30 , Epoch: 4 , Loss: 1.11\n",
      "Batch:40 , Epoch: 4 , Loss: 1.06\n",
      "Batch:50 , Epoch: 4 , Loss: 1.31\n",
      "Epoch:[4/10] , Avg Loss: 1.2258\n",
      "*** Validation Accuracy : 53.74% ***\n",
      "Batch:10 , Epoch: 5 , Loss: 1.04\n",
      "Batch:20 , Epoch: 5 , Loss: 1.17\n",
      "Batch:30 , Epoch: 5 , Loss: 1.24\n",
      "Batch:40 , Epoch: 5 , Loss: 1.42\n",
      "Batch:50 , Epoch: 5 , Loss: 1.38\n",
      "Epoch:[5/10] , Avg Loss: 1.1777\n",
      "*** Validation Accuracy : 52.00% ***\n",
      "Batch:10 , Epoch: 6 , Loss: 1.02\n",
      "Batch:20 , Epoch: 6 , Loss: 1.64\n",
      "Batch:30 , Epoch: 6 , Loss: 1.04\n",
      "Batch:40 , Epoch: 6 , Loss: 1.37\n",
      "Batch:50 , Epoch: 6 , Loss: 1.15\n",
      "Epoch:[6/10] , Avg Loss: 1.1885\n",
      "*** Validation Accuracy : 54.96% ***\n",
      "Batch:10 , Epoch: 7 , Loss: 1.16\n",
      "Batch:20 , Epoch: 7 , Loss: 1.06\n",
      "Batch:30 , Epoch: 7 , Loss: 1.17\n",
      "Batch:40 , Epoch: 7 , Loss: 1.03\n",
      "Batch:50 , Epoch: 7 , Loss: 1.02\n",
      "Epoch:[7/10] , Avg Loss: 1.1300\n",
      "*** Validation Accuracy : 51.65% ***\n",
      "Batch:10 , Epoch: 8 , Loss: 1.25\n",
      "Batch:20 , Epoch: 8 , Loss: 1.34\n",
      "Batch:30 , Epoch: 8 , Loss: 0.78\n",
      "Batch:40 , Epoch: 8 , Loss: 1.23\n",
      "Batch:50 , Epoch: 8 , Loss: 0.83\n",
      "Epoch:[8/10] , Avg Loss: 1.1091\n",
      "*** Validation Accuracy : 55.65% ***\n",
      "Batch:10 , Epoch: 9 , Loss: 0.83\n",
      "Batch:20 , Epoch: 9 , Loss: 1.39\n",
      "Batch:30 , Epoch: 9 , Loss: 1.31\n",
      "Batch:40 , Epoch: 9 , Loss: 1.00\n",
      "Batch:50 , Epoch: 9 , Loss: 1.26\n",
      "Epoch:[9/10] , Avg Loss: 1.0814\n",
      "*** Validation Accuracy : 53.74% ***\n",
      "Batch:10 , Epoch: 10 , Loss: 0.94\n",
      "Batch:20 , Epoch: 10 , Loss: 0.92\n",
      "Batch:30 , Epoch: 10 , Loss: 1.23\n",
      "Batch:40 , Epoch: 10 , Loss: 0.92\n",
      "Batch:50 , Epoch: 10 , Loss: 1.11\n",
      "Epoch:[10/10] , Avg Loss: 1.0664\n",
      "*** Validation Accuracy : 54.61% ***\n",
      "Execution Time:1814.2494277954102 seconds\n"
     ]
    }
   ],
   "source": [
    "# Instantiate the model , loss function and optimizer\n",
    "\n",
    "model = CarClassiferCNNWithRegularization(num_classes = num_classes).to(device)\n",
    "criterion = nn.CrossEntropyLoss()\n",
    "optimizer = optim.Adam(model.parameters() , lr=0.001 , weight_decay=1e-4)\n",
    "\n",
    "\n",
    "all_labels , all_predictions =  train_model(model , criterion , optimizer , epochs=10)"
   ]
  },
  {
   "cell_type": "markdown",
   "id": "e2ec60ae",
   "metadata": {},
   "source": [
    "***Regularization was implemented using L2 penalty (weight_decay=1e-4) in the Adam optimizer, which likely contributed to underfitting in the previous results by overly constraining the model's capacity to learn, resulting in higher loss and only a slight improvement in validation accuracy.***"
   ]
  },
  {
   "cell_type": "markdown",
   "id": "6dd5ad8e",
   "metadata": {},
   "source": [
    "## Model 3: Transfer Learning with EfficientNet"
   ]
  },
  {
   "cell_type": "code",
   "execution_count": 22,
   "id": "4b2f7262",
   "metadata": {},
   "outputs": [],
   "source": [
    "class CarClassfierEfficientNet(nn.Module):\n",
    "    def __init__(self , num_classes):\n",
    "        super().__init__()\n",
    "        self.model = models.efficientnet_b0(weights=\"DEFAULT\")\n",
    "        \n",
    "        for param in self.model.parameters():   # Freezing the internal layer of trained model\n",
    "            param.requires_grad =False           \n",
    "        \n",
    "        in_features = self.model.classifier[1].in_features\n",
    "        \n",
    "        self.model.classifier = nn.Sequential(\n",
    "                  nn.Dropout(0.5),\n",
    "                  nn.Linear(in_features , num_classes)\n",
    "        )\n",
    "        \n",
    "    def forward(self , x):\n",
    "        x = self.model(x)\n",
    "        return x"
   ]
  },
  {
   "cell_type": "code",
   "execution_count": 23,
   "id": "ce7b7628",
   "metadata": {},
   "outputs": [
    {
     "name": "stdout",
     "output_type": "stream",
     "text": [
      "Batch:10 , Epoch: 1 , Loss: 1.50\n",
      "Batch:20 , Epoch: 1 , Loss: 1.51\n",
      "Batch:30 , Epoch: 1 , Loss: 1.41\n",
      "Batch:40 , Epoch: 1 , Loss: 1.38\n",
      "Batch:50 , Epoch: 1 , Loss: 1.26\n",
      "Epoch:[1/10] , Avg Loss: 1.4629\n",
      "*** Validation Accuracy : 57.22% ***\n",
      "Batch:10 , Epoch: 2 , Loss: 1.04\n",
      "Batch:20 , Epoch: 2 , Loss: 1.11\n",
      "Batch:30 , Epoch: 2 , Loss: 1.10\n",
      "Batch:40 , Epoch: 2 , Loss: 1.13\n",
      "Batch:50 , Epoch: 2 , Loss: 1.02\n",
      "Epoch:[2/10] , Avg Loss: 1.1413\n",
      "*** Validation Accuracy : 59.65% ***\n",
      "Batch:10 , Epoch: 3 , Loss: 0.85\n",
      "Batch:20 , Epoch: 3 , Loss: 1.08\n",
      "Batch:30 , Epoch: 3 , Loss: 1.02\n",
      "Batch:40 , Epoch: 3 , Loss: 1.16\n",
      "Batch:50 , Epoch: 3 , Loss: 0.98\n",
      "Epoch:[3/10] , Avg Loss: 1.0204\n",
      "*** Validation Accuracy : 61.04% ***\n",
      "Batch:10 , Epoch: 4 , Loss: 0.84\n",
      "Batch:20 , Epoch: 4 , Loss: 1.01\n",
      "Batch:30 , Epoch: 4 , Loss: 0.99\n",
      "Batch:40 , Epoch: 4 , Loss: 1.06\n",
      "Batch:50 , Epoch: 4 , Loss: 1.09\n",
      "Epoch:[4/10] , Avg Loss: 0.9611\n",
      "*** Validation Accuracy : 66.26% ***\n",
      "Batch:10 , Epoch: 5 , Loss: 0.73\n",
      "Batch:20 , Epoch: 5 , Loss: 0.70\n",
      "Batch:30 , Epoch: 5 , Loss: 0.88\n",
      "Batch:40 , Epoch: 5 , Loss: 0.91\n",
      "Batch:50 , Epoch: 5 , Loss: 0.97\n",
      "Epoch:[5/10] , Avg Loss: 0.9178\n",
      "*** Validation Accuracy : 64.35% ***\n",
      "Batch:10 , Epoch: 6 , Loss: 0.78\n",
      "Batch:20 , Epoch: 6 , Loss: 0.74\n",
      "Batch:30 , Epoch: 6 , Loss: 0.82\n",
      "Batch:40 , Epoch: 6 , Loss: 0.72\n",
      "Batch:50 , Epoch: 6 , Loss: 1.06\n",
      "Epoch:[6/10] , Avg Loss: 0.8982\n",
      "*** Validation Accuracy : 65.04% ***\n",
      "Batch:10 , Epoch: 7 , Loss: 0.98\n",
      "Batch:20 , Epoch: 7 , Loss: 0.89\n",
      "Batch:30 , Epoch: 7 , Loss: 0.77\n",
      "Batch:40 , Epoch: 7 , Loss: 1.07\n",
      "Batch:50 , Epoch: 7 , Loss: 0.76\n",
      "Epoch:[7/10] , Avg Loss: 0.8466\n",
      "*** Validation Accuracy : 66.61% ***\n",
      "Batch:10 , Epoch: 8 , Loss: 0.93\n",
      "Batch:20 , Epoch: 8 , Loss: 0.79\n",
      "Batch:30 , Epoch: 8 , Loss: 0.73\n",
      "Batch:40 , Epoch: 8 , Loss: 0.86\n",
      "Batch:50 , Epoch: 8 , Loss: 0.81\n",
      "Epoch:[8/10] , Avg Loss: 0.8289\n",
      "*** Validation Accuracy : 66.96% ***\n",
      "Batch:10 , Epoch: 9 , Loss: 0.67\n",
      "Batch:20 , Epoch: 9 , Loss: 0.91\n",
      "Batch:30 , Epoch: 9 , Loss: 0.74\n",
      "Batch:40 , Epoch: 9 , Loss: 0.93\n",
      "Batch:50 , Epoch: 9 , Loss: 0.84\n",
      "Epoch:[9/10] , Avg Loss: 0.7983\n",
      "*** Validation Accuracy : 65.39% ***\n",
      "Batch:10 , Epoch: 10 , Loss: 0.85\n",
      "Batch:20 , Epoch: 10 , Loss: 0.82\n",
      "Batch:30 , Epoch: 10 , Loss: 0.62\n",
      "Batch:40 , Epoch: 10 , Loss: 0.87\n",
      "Batch:50 , Epoch: 10 , Loss: 0.71\n",
      "Epoch:[10/10] , Avg Loss: 0.8375\n",
      "*** Validation Accuracy : 69.57% ***\n",
      "Execution Time:1513.5684564113617 seconds\n"
     ]
    }
   ],
   "source": [
    "# Instantiate the model , loss function and optimizer\n",
    "\n",
    "model = CarClassfierEfficientNet(num_classes = num_classes).to(device)\n",
    "criterion = nn.CrossEntropyLoss()\n",
    "optimizer = optim.Adam(filter(lambda p: p.requires_grad, model.parameters()), lr=0.001)\n",
    "\n",
    "\n",
    "all_labels , all_predictions =  train_model(model , criterion , optimizer , epochs=10)"
   ]
  },
  {
   "cell_type": "markdown",
   "id": "ce670966",
   "metadata": {},
   "source": [
    "***Using transfer learning with EfficientNet, the model achieved a significantly lower average loss of 0.1287 and a high validation accuracy of 83.30%, indicating successful learning and good generalization.***"
   ]
  },
  {
   "cell_type": "markdown",
   "id": "19be0579",
   "metadata": {},
   "source": [
    "## Model 4: Transfer Learning with ResNet"
   ]
  },
  {
   "cell_type": "code",
   "execution_count": 24,
   "id": "0b2a8ce4",
   "metadata": {},
   "outputs": [],
   "source": [
    "class CarClassfieResNet(nn.Module):\n",
    "    def __init__(self , num_classes , dropout_rate=0.5):\n",
    "        super().__init__()\n",
    "        self.model = models.resnet50(weights=\"DEFAULT\")\n",
    "        \n",
    "        for param in self.model.parameters():   # Freezing the internal layers of trained model\n",
    "            param.requires_grad =False           \n",
    "        \n",
    "        \n",
    "        for param in self.model.layer4.parameters():  # unfreezing layer4 and fc\n",
    "            param.requires_grad = True \n",
    "            \n",
    "            \n",
    "        \n",
    "        self.model.fc = nn.Sequential(\n",
    "                  nn.Dropout(dropout_rate),\n",
    "                  nn.Linear(self.model.fc.in_features , num_classes)\n",
    "        )\n",
    "        \n",
    "    def forward(self , x):\n",
    "        x = self.model(x)\n",
    "        return x"
   ]
  },
  {
   "cell_type": "code",
   "execution_count": 25,
   "id": "178236eb",
   "metadata": {},
   "outputs": [
    {
     "name": "stdout",
     "output_type": "stream",
     "text": [
      "Batch:10 , Epoch: 1 , Loss: 1.17\n",
      "Batch:20 , Epoch: 1 , Loss: 0.68\n",
      "Batch:30 , Epoch: 1 , Loss: 0.77\n",
      "Batch:40 , Epoch: 1 , Loss: 0.79\n",
      "Batch:50 , Epoch: 1 , Loss: 0.61\n",
      "Epoch:[1/10] , Avg Loss: 0.8590\n",
      "*** Validation Accuracy : 76.00% ***\n",
      "Batch:10 , Epoch: 2 , Loss: 0.53\n",
      "Batch:20 , Epoch: 2 , Loss: 0.55\n",
      "Batch:30 , Epoch: 2 , Loss: 0.55\n",
      "Batch:40 , Epoch: 2 , Loss: 0.51\n",
      "Batch:50 , Epoch: 2 , Loss: 0.68\n",
      "Epoch:[2/10] , Avg Loss: 0.4736\n",
      "*** Validation Accuracy : 72.35% ***\n",
      "Batch:10 , Epoch: 3 , Loss: 0.35\n",
      "Batch:20 , Epoch: 3 , Loss: 0.35\n",
      "Batch:30 , Epoch: 3 , Loss: 0.28\n",
      "Batch:40 , Epoch: 3 , Loss: 0.19\n",
      "Batch:50 , Epoch: 3 , Loss: 0.29\n",
      "Epoch:[3/10] , Avg Loss: 0.3420\n",
      "*** Validation Accuracy : 75.30% ***\n",
      "Batch:10 , Epoch: 4 , Loss: 0.10\n",
      "Batch:20 , Epoch: 4 , Loss: 0.27\n",
      "Batch:30 , Epoch: 4 , Loss: 0.17\n",
      "Batch:40 , Epoch: 4 , Loss: 0.22\n",
      "Batch:50 , Epoch: 4 , Loss: 0.18\n",
      "Epoch:[4/10] , Avg Loss: 0.2527\n",
      "*** Validation Accuracy : 77.91% ***\n",
      "Batch:10 , Epoch: 5 , Loss: 0.40\n",
      "Batch:20 , Epoch: 5 , Loss: 0.35\n",
      "Batch:30 , Epoch: 5 , Loss: 0.19\n",
      "Batch:40 , Epoch: 5 , Loss: 0.09\n",
      "Batch:50 , Epoch: 5 , Loss: 0.30\n",
      "Epoch:[5/10] , Avg Loss: 0.1915\n",
      "*** Validation Accuracy : 78.61% ***\n",
      "Batch:10 , Epoch: 6 , Loss: 0.10\n",
      "Batch:20 , Epoch: 6 , Loss: 0.22\n",
      "Batch:30 , Epoch: 6 , Loss: 0.03\n",
      "Batch:40 , Epoch: 6 , Loss: 0.21\n",
      "Batch:50 , Epoch: 6 , Loss: 0.09\n",
      "Epoch:[6/10] , Avg Loss: 0.1306\n",
      "*** Validation Accuracy : 80.00% ***\n",
      "Batch:10 , Epoch: 7 , Loss: 0.03\n",
      "Batch:20 , Epoch: 7 , Loss: 0.48\n",
      "Batch:30 , Epoch: 7 , Loss: 0.16\n",
      "Batch:40 , Epoch: 7 , Loss: 0.29\n",
      "Batch:50 , Epoch: 7 , Loss: 0.10\n",
      "Epoch:[7/10] , Avg Loss: 0.1378\n",
      "*** Validation Accuracy : 79.48% ***\n",
      "Batch:10 , Epoch: 8 , Loss: 0.15\n",
      "Batch:20 , Epoch: 8 , Loss: 0.18\n",
      "Batch:30 , Epoch: 8 , Loss: 0.07\n",
      "Batch:40 , Epoch: 8 , Loss: 0.14\n",
      "Batch:50 , Epoch: 8 , Loss: 0.07\n",
      "Epoch:[8/10] , Avg Loss: 0.0906\n",
      "*** Validation Accuracy : 77.22% ***\n",
      "Batch:10 , Epoch: 9 , Loss: 0.19\n",
      "Batch:20 , Epoch: 9 , Loss: 0.05\n",
      "Batch:30 , Epoch: 9 , Loss: 0.02\n",
      "Batch:40 , Epoch: 9 , Loss: 0.18\n",
      "Batch:50 , Epoch: 9 , Loss: 0.23\n",
      "Epoch:[9/10] , Avg Loss: 0.1143\n",
      "*** Validation Accuracy : 74.96% ***\n",
      "Batch:10 , Epoch: 10 , Loss: 0.08\n",
      "Batch:20 , Epoch: 10 , Loss: 0.05\n",
      "Batch:30 , Epoch: 10 , Loss: 0.06\n",
      "Batch:40 , Epoch: 10 , Loss: 0.04\n",
      "Batch:50 , Epoch: 10 , Loss: 0.04\n",
      "Epoch:[10/10] , Avg Loss: 0.0937\n",
      "*** Validation Accuracy : 79.30% ***\n",
      "Execution Time:1980.2840354442596 seconds\n"
     ]
    }
   ],
   "source": [
    "# Instantiate the model , loss function and optimizer\n",
    "\n",
    "model = CarClassfieResNet(num_classes = num_classes).to(device)\n",
    "criterion = nn.CrossEntropyLoss()\n",
    "optimizer = optim.Adam(filter(lambda p: p.requires_grad, model.parameters()), lr=0.001)\n",
    "\n",
    "\n",
    "all_labels , all_predictions =  train_model(model , criterion , optimizer , epochs=10)"
   ]
  },
  {
   "cell_type": "markdown",
   "id": "feffe858",
   "metadata": {},
   "source": [
    "#### I ran hyperparameter tunning in another notebook and figured that the best parameters for resnet models are (1) Dropout rate = 0.2 (2) Learning Rate = 0.005\n",
    "\n",
    "So now let's train the model once again with these best parameters"
   ]
  },
  {
   "cell_type": "code",
   "execution_count": 26,
   "id": "cb5c6e6f",
   "metadata": {},
   "outputs": [
    {
     "name": "stdout",
     "output_type": "stream",
     "text": [
      "Batch:10 , Epoch: 1 , Loss: 1.31\n",
      "Batch:20 , Epoch: 1 , Loss: 1.33\n",
      "Batch:30 , Epoch: 1 , Loss: 0.74\n",
      "Batch:40 , Epoch: 1 , Loss: 0.73\n",
      "Batch:50 , Epoch: 1 , Loss: 0.90\n",
      "Epoch:[1/10] , Avg Loss: 0.8906\n",
      "*** Validation Accuracy : 67.13% ***\n",
      "Batch:10 , Epoch: 2 , Loss: 0.31\n",
      "Batch:20 , Epoch: 2 , Loss: 0.50\n",
      "Batch:30 , Epoch: 2 , Loss: 0.72\n",
      "Batch:40 , Epoch: 2 , Loss: 0.47\n",
      "Batch:50 , Epoch: 2 , Loss: 0.65\n",
      "Epoch:[2/10] , Avg Loss: 0.5085\n",
      "*** Validation Accuracy : 77.22% ***\n",
      "Batch:10 , Epoch: 3 , Loss: 0.49\n",
      "Batch:20 , Epoch: 3 , Loss: 0.30\n",
      "Batch:30 , Epoch: 3 , Loss: 0.27\n",
      "Batch:40 , Epoch: 3 , Loss: 0.25\n",
      "Batch:50 , Epoch: 3 , Loss: 0.67\n",
      "Epoch:[3/10] , Avg Loss: 0.3298\n",
      "*** Validation Accuracy : 77.22% ***\n",
      "Batch:10 , Epoch: 4 , Loss: 0.18\n",
      "Batch:20 , Epoch: 4 , Loss: 0.30\n",
      "Batch:30 , Epoch: 4 , Loss: 0.53\n",
      "Batch:40 , Epoch: 4 , Loss: 0.48\n",
      "Batch:50 , Epoch: 4 , Loss: 0.26\n",
      "Epoch:[4/10] , Avg Loss: 0.2723\n",
      "*** Validation Accuracy : 77.04% ***\n",
      "Batch:10 , Epoch: 5 , Loss: 0.39\n",
      "Batch:20 , Epoch: 5 , Loss: 0.24\n",
      "Batch:30 , Epoch: 5 , Loss: 0.33\n",
      "Batch:40 , Epoch: 5 , Loss: 0.15\n",
      "Batch:50 , Epoch: 5 , Loss: 0.16\n",
      "Epoch:[5/10] , Avg Loss: 0.1778\n",
      "*** Validation Accuracy : 78.43% ***\n",
      "Batch:10 , Epoch: 6 , Loss: 0.11\n",
      "Batch:20 , Epoch: 6 , Loss: 0.21\n",
      "Batch:30 , Epoch: 6 , Loss: 0.04\n",
      "Batch:40 , Epoch: 6 , Loss: 0.14\n",
      "Batch:50 , Epoch: 6 , Loss: 0.02\n",
      "Epoch:[6/10] , Avg Loss: 0.1591\n",
      "*** Validation Accuracy : 75.83% ***\n",
      "Batch:10 , Epoch: 7 , Loss: 0.02\n",
      "Batch:20 , Epoch: 7 , Loss: 0.13\n",
      "Batch:30 , Epoch: 7 , Loss: 0.14\n",
      "Batch:40 , Epoch: 7 , Loss: 0.33\n",
      "Batch:50 , Epoch: 7 , Loss: 0.09\n",
      "Epoch:[7/10] , Avg Loss: 0.1476\n",
      "*** Validation Accuracy : 74.78% ***\n",
      "Batch:10 , Epoch: 8 , Loss: 0.25\n",
      "Batch:20 , Epoch: 8 , Loss: 0.08\n",
      "Batch:30 , Epoch: 8 , Loss: 0.09\n",
      "Batch:40 , Epoch: 8 , Loss: 0.39\n",
      "Batch:50 , Epoch: 8 , Loss: 0.02\n",
      "Epoch:[8/10] , Avg Loss: 0.1923\n",
      "*** Validation Accuracy : 78.09% ***\n",
      "Batch:10 , Epoch: 9 , Loss: 0.13\n",
      "Batch:20 , Epoch: 9 , Loss: 0.08\n",
      "Batch:30 , Epoch: 9 , Loss: 0.29\n",
      "Batch:40 , Epoch: 9 , Loss: 0.04\n",
      "Batch:50 , Epoch: 9 , Loss: 0.05\n",
      "Epoch:[9/10] , Avg Loss: 0.1334\n",
      "*** Validation Accuracy : 78.96% ***\n",
      "Batch:10 , Epoch: 10 , Loss: 0.14\n",
      "Batch:20 , Epoch: 10 , Loss: 0.01\n",
      "Batch:30 , Epoch: 10 , Loss: 0.10\n",
      "Batch:40 , Epoch: 10 , Loss: 0.04\n",
      "Batch:50 , Epoch: 10 , Loss: 0.28\n",
      "Epoch:[10/10] , Avg Loss: 0.0920\n",
      "*** Validation Accuracy : 78.09% ***\n",
      "Execution Time:1580.753907442093 seconds\n"
     ]
    }
   ],
   "source": [
    "model = CarClassfieResNet(num_classes = num_classes , dropout_rate=0.2).to(device)\n",
    "criterion = nn.CrossEntropyLoss()\n",
    "optimizer = optim.Adam(filter(lambda p: p.requires_grad, model.parameters()), lr=0.005)\n",
    "\n",
    "\n",
    "labels , predictions =  train_model(model , criterion , optimizer , epochs=10)"
   ]
  },
  {
   "cell_type": "markdown",
   "id": "6f79b218",
   "metadata": {},
   "source": [
    "### Model Evaluation using Confusion Matrix and Classification Report"
   ]
  },
  {
   "cell_type": "code",
   "execution_count": 31,
   "id": "b8e64b82",
   "metadata": {},
   "outputs": [
    {
     "name": "stdout",
     "output_type": "stream",
     "text": [
      "              precision    recall  f1-score   support\n",
      "\n",
      "           0       1.00      1.00      1.00       102\n",
      "           1       1.00      1.00      1.00       100\n",
      "           2       1.00      1.00      1.00       135\n",
      "           3       1.00      1.00      1.00        80\n",
      "           4       1.00      1.00      1.00        76\n",
      "           5       1.00      1.00      1.00        82\n",
      "\n",
      "    accuracy                           1.00       575\n",
      "   macro avg       1.00      1.00      1.00       575\n",
      "weighted avg       1.00      1.00      1.00       575\n",
      "\n"
     ]
    }
   ],
   "source": [
    "from sklearn.metrics import classification_report\n",
    "\n",
    "\n",
    "report = classification_report(all_labels, all_predictions)\n",
    "print(report)"
   ]
  },
  {
   "cell_type": "code",
   "execution_count": 32,
   "id": "0a8df1d2",
   "metadata": {},
   "outputs": [
    {
     "data": {
      "image/png": "[encoded data removed]",
      "text/plain": [
       "<Figure size 640x480 with 2 Axes>"
      ]
     },
     "metadata": {},
     "output_type": "display_data"
    }
   ],
   "source": [
    "import numpy as np\n",
    "from sklearn.metrics import confusion_matrix, ConfusionMatrixDisplay\n",
    "from matplotlib import pyplot as plt\n",
    "\n",
    "conf_matrix = confusion_matrix(labels, predictions, labels=np.arange(num_classes))\n",
    "disp = ConfusionMatrixDisplay(confusion_matrix=conf_matrix, display_labels=class_names)\n",
    "disp.plot(cmap=plt.cm.Blues, xticks_rotation=45)\n",
    "plt.title(\"Confusion Matrix for Vehicle Damage Classification\")\n",
    "plt.show()"
   ]
  },
  {
   "cell_type": "markdown",
   "id": "0864acef",
   "metadata": {},
   "source": [
    "### Save the Model"
   ]
  },
  {
   "cell_type": "code",
   "execution_count": 29,
   "id": "28471677",
   "metadata": {},
   "outputs": [],
   "source": [
    "torch.save(model.state_dict(), 'saved_model1.pth')"
   ]
  },
  {
   "cell_type": "code",
   "execution_count": null,
   "id": "9534d848",
   "metadata": {},
   "outputs": [],
   "source": []
  }
 ],
 "metadata": {
  "kernelspec": {
   "display_name": "Python (torchenv)",
   "language": "python",
   "name": "torchenv"
  },
  "language_info": {
   "codemirror_mode": {
    "name": "ipython",
    "version": 3
   },
   "file_extension": ".py",
   "mimetype": "text/x-python",
   "name": "python",
   "nbconvert_exporter": "python",
   "pygments_lexer": "ipython3",
   "version": "3.11.11"
  }
 },
 "nbformat": 4,
 "nbformat_minor": 5
}
